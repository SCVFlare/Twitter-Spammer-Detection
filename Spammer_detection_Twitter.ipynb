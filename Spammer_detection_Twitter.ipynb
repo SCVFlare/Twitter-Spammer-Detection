{
  "nbformat": 4,
  "nbformat_minor": 0,
  "metadata": {
    "colab": {
      "name": "Spammer detection-Twitter.ipynb",
      "provenance": [],
      "collapsed_sections": [
        "GgIE9THjm_LH",
        "X-2dQNNN1BfQ",
        "sWNEPX6Loznz",
        "4crdKKY58VJO",
        "DjVXz1bp8igF",
        "v_mKWDB19PrD",
        "dN28xtJe9hH1",
        "yCQZa6He9r30",
        "HAzaxf4pi3Be",
        "EUVTWR6YkKZb",
        "idQPTBe6lB2Q",
        "6P_PE-VU36L7",
        "gF76X4KO3-h7",
        "r9wRArWC6jM9",
        "b5f-FJpe38sL",
        "KQ8OT2dKBEBM",
        "KqqLLHyOacgK"
      ],
      "toc_visible": true,
      "include_colab_link": true
    },
    "kernelspec": {
      "name": "python3",
      "display_name": "Python 3"
    }
  },
  "cells": [
    {
      "cell_type": "markdown",
      "metadata": {
        "id": "view-in-github",
        "colab_type": "text"
      },
      "source": [
        "<a href=\"https://colab.research.google.com/github/SCVFlare/Twitter-Spammer-Detection/blob/main/Spammer_detection_Twitter.ipynb\" target=\"_parent\"><img src=\"https://colab.research.google.com/assets/colab-badge.svg\" alt=\"Open In Colab\"/></a>"
      ]
    },
    {
      "cell_type": "markdown",
      "metadata": {
        "id": "8KaQGjaZUgr4"
      },
      "source": [
        "# Spammer detection-Twitter - Boyan BECHEV, Jules JEHANNO\n"
      ]
    },
    {
      "cell_type": "markdown",
      "metadata": {
        "id": "NC-O7yGmcOdk"
      },
      "source": [
        "## **Préparation**"
      ]
    },
    {
      "cell_type": "markdown",
      "metadata": {
        "id": "GgIE9THjm_LH"
      },
      "source": [
        "### Imports"
      ]
    },
    {
      "cell_type": "code",
      "metadata": {
        "id": "dt-eIoXuAGCP",
        "colab": {
          "base_uri": "https://localhost:8080/"
        },
        "outputId": "ead93c42-3c54-4500-d031-393e5e565ad2"
      },
      "source": [
        "pip install scikit-plot"
      ],
      "execution_count": 1,
      "outputs": [
        {
          "output_type": "stream",
          "name": "stdout",
          "text": [
            "Collecting scikit-plot\n",
            "  Downloading scikit_plot-0.3.7-py3-none-any.whl (33 kB)\n",
            "Requirement already satisfied: scikit-learn>=0.18 in /usr/local/lib/python3.7/dist-packages (from scikit-plot) (0.22.2.post1)\n",
            "Requirement already satisfied: scipy>=0.9 in /usr/local/lib/python3.7/dist-packages (from scikit-plot) (1.4.1)\n",
            "Requirement already satisfied: matplotlib>=1.4.0 in /usr/local/lib/python3.7/dist-packages (from scikit-plot) (3.2.2)\n",
            "Requirement already satisfied: joblib>=0.10 in /usr/local/lib/python3.7/dist-packages (from scikit-plot) (1.0.1)\n",
            "Requirement already satisfied: pyparsing!=2.0.4,!=2.1.2,!=2.1.6,>=2.0.1 in /usr/local/lib/python3.7/dist-packages (from matplotlib>=1.4.0->scikit-plot) (2.4.7)\n",
            "Requirement already satisfied: kiwisolver>=1.0.1 in /usr/local/lib/python3.7/dist-packages (from matplotlib>=1.4.0->scikit-plot) (1.3.2)\n",
            "Requirement already satisfied: cycler>=0.10 in /usr/local/lib/python3.7/dist-packages (from matplotlib>=1.4.0->scikit-plot) (0.10.0)\n",
            "Requirement already satisfied: python-dateutil>=2.1 in /usr/local/lib/python3.7/dist-packages (from matplotlib>=1.4.0->scikit-plot) (2.8.2)\n",
            "Requirement already satisfied: numpy>=1.11 in /usr/local/lib/python3.7/dist-packages (from matplotlib>=1.4.0->scikit-plot) (1.19.5)\n",
            "Requirement already satisfied: six in /usr/local/lib/python3.7/dist-packages (from cycler>=0.10->matplotlib>=1.4.0->scikit-plot) (1.15.0)\n",
            "Installing collected packages: scikit-plot\n",
            "Successfully installed scikit-plot-0.3.7\n"
          ]
        }
      ]
    },
    {
      "cell_type": "code",
      "metadata": {
        "id": "GGbk-4rwm_cs"
      },
      "source": [
        "import pandas as pd\n",
        "import numpy as np\n",
        "import re, string\n",
        "from scipy.stats import zscore\n",
        "from sklearn.tree import export_graphviz\n",
        "from sklearn.tree import DecisionTreeClassifier\n",
        "from sklearn.ensemble import RandomForestClassifier\n",
        "from sklearn.naive_bayes import GaussianNB\n",
        "from sklearn.model_selection import train_test_split\n",
        "from sklearn import metrics\n",
        "from sklearn.metrics import precision_score\n",
        "from sklearn.metrics import recall_score\n",
        "from sklearn.metrics import f1_score\n",
        "from sklearn.metrics import roc_auc_score\n",
        "from sklearn.metrics import roc_curve\n",
        "import scikitplot as skplt\n",
        "import matplotlib.pyplot as plt"
      ],
      "execution_count": 2,
      "outputs": []
    },
    {
      "cell_type": "markdown",
      "metadata": {
        "id": "X-2dQNNN1BfQ"
      },
      "source": [
        "### Collection des données"
      ]
    },
    {
      "cell_type": "markdown",
      "metadata": {
        "id": "0B5xdnCCylNg"
      },
      "source": [
        "\n",
        "\n",
        "> Connexion au web et téléchargement de data \"Social Honeypot\"\n",
        "\n"
      ]
    },
    {
      "cell_type": "code",
      "metadata": {
        "id": "E1vJNnvElYLf",
        "colab": {
          "base_uri": "https://localhost:8080/"
        },
        "outputId": "977ad0a6-0d5f-4384-eb61-6d73b96bc48b"
      },
      "source": [
        "!wget http://infolab.tamu.edu/data/social_honeypot_icwsm_2011.zip"
      ],
      "execution_count": 3,
      "outputs": [
        {
          "output_type": "stream",
          "name": "stdout",
          "text": [
            "--2021-09-22 14:41:59--  http://infolab.tamu.edu/data/social_honeypot_icwsm_2011.zip\n",
            "Resolving infolab.tamu.edu (infolab.tamu.edu)... 45.55.217.29\n",
            "Connecting to infolab.tamu.edu (infolab.tamu.edu)|45.55.217.29|:80... connected.\n",
            "HTTP request sent, awaiting response... 200 OK\n",
            "Length: 263659672 (251M) [application/zip]\n",
            "Saving to: ‘social_honeypot_icwsm_2011.zip’\n",
            "\n",
            "social_honeypot_icw 100%[===================>] 251.45M   204MB/s    in 1.2s    \n",
            "\n",
            "2021-09-22 14:42:00 (204 MB/s) - ‘social_honeypot_icwsm_2011.zip’ saved [263659672/263659672]\n",
            "\n"
          ]
        }
      ]
    },
    {
      "cell_type": "markdown",
      "metadata": {
        "id": "pxqlCbLfoeNE"
      },
      "source": [
        "\n",
        "\n",
        "\n",
        "> Désarchiver l'archive\n",
        "\n",
        "\n",
        "\n"
      ]
    },
    {
      "cell_type": "code",
      "metadata": {
        "id": "2vMHxVfKksYG",
        "colab": {
          "base_uri": "https://localhost:8080/"
        },
        "outputId": "8ba870d8-87ec-4de2-e0b0-d0b64661a46d"
      },
      "source": [
        "!unzip social_honeypot_icwsm_2011.zip"
      ],
      "execution_count": 4,
      "outputs": [
        {
          "output_type": "stream",
          "name": "stdout",
          "text": [
            "Archive:  social_honeypot_icwsm_2011.zip\n",
            "   creating: social_honeypot_icwsm_2011/\n",
            "  inflating: social_honeypot_icwsm_2011/content_polluters.txt  \n",
            "   creating: __MACOSX/\n",
            "   creating: __MACOSX/social_honeypot_icwsm_2011/\n",
            "  inflating: __MACOSX/social_honeypot_icwsm_2011/._content_polluters.txt  \n",
            "  inflating: social_honeypot_icwsm_2011/content_polluters_followings.txt  \n",
            "  inflating: __MACOSX/social_honeypot_icwsm_2011/._content_polluters_followings.txt  \n",
            "  inflating: social_honeypot_icwsm_2011/content_polluters_tweets.txt  \n",
            "  inflating: __MACOSX/social_honeypot_icwsm_2011/._content_polluters_tweets.txt  \n",
            "  inflating: social_honeypot_icwsm_2011/legitimate_users.txt  \n",
            "  inflating: __MACOSX/social_honeypot_icwsm_2011/._legitimate_users.txt  \n",
            "  inflating: social_honeypot_icwsm_2011/legitimate_users_followings.txt  \n",
            "  inflating: __MACOSX/social_honeypot_icwsm_2011/._legitimate_users_followings.txt  \n",
            "  inflating: social_honeypot_icwsm_2011/legitimate_users_tweets.txt  \n",
            "  inflating: __MACOSX/social_honeypot_icwsm_2011/._legitimate_users_tweets.txt  \n",
            "  inflating: social_honeypot_icwsm_2011/social_honeypot_icwsm_2011.pdf  \n",
            "  inflating: __MACOSX/social_honeypot_icwsm_2011/._social_honeypot_icwsm_2011.pdf  \n",
            "  inflating: __MACOSX/._social_honeypot_icwsm_2011  \n"
          ]
        }
      ]
    },
    {
      "cell_type": "markdown",
      "metadata": {
        "id": "sWNEPX6Loznz"
      },
      "source": [
        "### Analyse des fichiers"
      ]
    },
    {
      "cell_type": "markdown",
      "metadata": {
        "id": "z44LKvIR6UGK"
      },
      "source": [
        "\n",
        "\n",
        "> Convertir tous les fichiers text en Panda DataFrame. À chaque colonne est approprié un bon type pour faciliter le traitement\n",
        " \n"
      ]
    },
    {
      "cell_type": "code",
      "metadata": {
        "id": "UBn-0oIjo-w8",
        "colab": {
          "base_uri": "https://localhost:8080/"
        },
        "outputId": "2d094a7e-1ffb-4474-aba5-ebe86ccf4d80"
      },
      "source": [
        "\n",
        "def func(string):\n",
        "   return pd.Series(string.split(',')).astype(int)\n",
        "  \n",
        "  \n",
        "dfContent_polluters = pd.read_csv('social_honeypot_icwsm_2011/content_polluters.txt',sep='\\t', names=\n",
        "                 [\"UserID\",\"CreatedAt\",\"CollectedAt\",\"NumberOfFollowings\",\"NumberOfFollowers\",\n",
        "                  \"NumberOfTweets\",\"LengthOfScreenName\",\"LengthOfDescriptionInUserProfile\"],\n",
        "                parse_dates=[\"CreatedAt\",\"CollectedAt\"],index_col=0)\n",
        "\n",
        "dfContent_polluters_followings = pd.read_csv('social_honeypot_icwsm_2011/content_polluters_followings.txt',sep='\\t', names=\n",
        "                 [\"UserID\",\"SeriesOfNumberOfFollowings\"],converters={\"SeriesOfNumberOfFollowings\":func},index_col=0)\n",
        "\n",
        "dfContent_polluters_tweets = pd.read_csv('social_honeypot_icwsm_2011/content_polluters_tweets.txt',sep='\\t', names=\n",
        "                 [\"UserID\",\"TweetID\",\"Tweet\",\"CreatedAt\"], parse_dates=[\"CreatedAt\"],index_col=0)\n",
        "\n",
        "\n",
        "dfLegitimate_users = pd.read_csv('social_honeypot_icwsm_2011/legitimate_users.txt',sep='\\t', names=\n",
        "                 [\"UserID\",\"CreatedAt\",\"CollectedAt\",\"NumberOfFollowings\",\"NumberOfFollowers\",\n",
        "                  \"NumberOfTweets\",\"LengthOfScreenName\",\"LengthOfDescriptionInUserProfile\"],\n",
        "                parse_dates=[\"CreatedAt\",\"CollectedAt\"],index_col=0)\n",
        "\n",
        "dfLegitimate_users_followings = pd.read_csv('social_honeypot_icwsm_2011/legitimate_users_followings.txt',sep='\\t', names=\n",
        "                 [\"UserID\",\"SeriesOfNumberOfFollowings\"],converters={\"SeriesOfNumberOfFollowings\":func},index_col=0)\n",
        "\n",
        "\n",
        "dfLegitimate_users_tweets = pd.read_csv('social_honeypot_icwsm_2011/legitimate_users_tweets.txt',sep='\\t', names=\n",
        "                 [\"UserID\",\"TweetID\",\"Tweet\",\"CreatedAt\"], parse_dates=[\"CreatedAt\"],index_col=0)\n"
      ],
      "execution_count": 5,
      "outputs": [
        {
          "output_type": "stream",
          "name": "stderr",
          "text": [
            "/usr/local/lib/python3.7/dist-packages/numpy/lib/arraysetops.py:580: FutureWarning: elementwise comparison failed; returning scalar instead, but in the future will perform elementwise comparison\n",
            "  mask |= (ar1 == a)\n"
          ]
        }
      ]
    },
    {
      "cell_type": "markdown",
      "metadata": {
        "id": "BfS1TgRq1Igh"
      },
      "source": [
        "## \t**Calcul\tdes\tcaractéristiques**"
      ]
    },
    {
      "cell_type": "markdown",
      "metadata": {
        "id": "sXFzQYxt7Hd9"
      },
      "source": [
        "### 1 - The length of the screen name"
      ]
    },
    {
      "cell_type": "code",
      "metadata": {
        "id": "oycPfF5A7GNj"
      },
      "source": [
        "def lengthName(data_frame) :\n",
        "  df = pd.DataFrame({\"LengthOfScreenName\":data_frame[\"LengthOfScreenName\"]})\n",
        "  return df"
      ],
      "execution_count": 6,
      "outputs": []
    },
    {
      "cell_type": "markdown",
      "metadata": {
        "id": "4crdKKY58VJO"
      },
      "source": [
        "### 2 - The length of the description"
      ]
    },
    {
      "cell_type": "code",
      "metadata": {
        "id": "3sltIlpS8Zdk"
      },
      "source": [
        "def lengthDes(data_frame) :\n",
        "  df = pd.DataFrame({\"LengthOfDescription\":data_frame[\"LengthOfDescriptionInUserProfile\"]})\n",
        "  return df"
      ],
      "execution_count": 7,
      "outputs": []
    },
    {
      "cell_type": "markdown",
      "metadata": {
        "id": "DjVXz1bp8igF"
      },
      "source": [
        "### 3 - The\tlongevity\tof\tthe\taccount"
      ]
    },
    {
      "cell_type": "code",
      "metadata": {
        "id": "HjEyR2sv8nJa"
      },
      "source": [
        "\n",
        "def longevity(data_frame) :\n",
        "  df=pd.DataFrame({\"LongevityOfAccount\": (data_frame[\"CollectedAt\"]-data_frame[\"CreatedAt\"])/np.timedelta64(1, 'D')})\n",
        "  return df"
      ],
      "execution_count": 8,
      "outputs": []
    },
    {
      "cell_type": "markdown",
      "metadata": {
        "id": "v_mKWDB19PrD"
      },
      "source": [
        "### 4 - Numbers of followings"
      ]
    },
    {
      "cell_type": "code",
      "metadata": {
        "id": "USw4CtGy9Ug9"
      },
      "source": [
        "def nbrFollowings(data_frame) :\n",
        "  df = pd.DataFrame({\"NumberOfFollowings\":data_frame[\"NumberOfFollowings\"]})\n",
        "  return df"
      ],
      "execution_count": 9,
      "outputs": []
    },
    {
      "cell_type": "markdown",
      "metadata": {
        "id": "dN28xtJe9hH1"
      },
      "source": [
        "### 5 - Numbers of followers"
      ]
    },
    {
      "cell_type": "code",
      "metadata": {
        "id": "Tq1BfE0S9jru"
      },
      "source": [
        "def nbrFollowers(data_frame) :\n",
        "  df = pd.DataFrame({\"NumberOfFollowers\":data_frame[\"NumberOfFollowers\"]})\n",
        "  return df"
      ],
      "execution_count": 10,
      "outputs": []
    },
    {
      "cell_type": "markdown",
      "metadata": {
        "id": "yCQZa6He9r30"
      },
      "source": [
        "### 6 - The standard\tdeviation\tof unique\tnumerical\tIDs\tof following"
      ]
    },
    {
      "cell_type": "code",
      "metadata": {
        "id": "P183tuDI9z-9"
      },
      "source": [
        "def std(x):\n",
        "  return x.std()\n",
        "\n",
        "def followingsSTD(data_frame) :\n",
        "  df = pd.DataFrame({\"STDOfUniqueFollowers\":data_frame[\"SeriesOfNumberOfFollowings\"].apply(std)})\n",
        "  return df"
      ],
      "execution_count": 11,
      "outputs": []
    },
    {
      "cell_type": "markdown",
      "metadata": {
        "id": "HAzaxf4pi3Be"
      },
      "source": [
        "### 7 - Followings / Followers"
      ]
    },
    {
      "cell_type": "code",
      "metadata": {
        "id": "Zd7WSvpCi2nP"
      },
      "source": [
        "def quotientFF(data_frame) :\n",
        "  df = pd.DataFrame({\"RatioFollowings/Followers\": (data_frame[\"NumberOfFollowings\"] / data_frame[\"NumberOfFollowers\"]) })\n",
        "  return df "
      ],
      "execution_count": 12,
      "outputs": []
    },
    {
      "cell_type": "markdown",
      "metadata": {
        "id": "EUVTWR6YkKZb"
      },
      "source": [
        "### 8 - Number of tweets"
      ]
    },
    {
      "cell_type": "code",
      "metadata": {
        "id": "H7sfhsQuj-vC"
      },
      "source": [
        "\n",
        "def nbrOfTweets(data_frame) :\n",
        "  df = pd.DataFrame({\"NumberOfTweets\": data_frame[\"NumberOfTweets\"] })\n",
        "  return df"
      ],
      "execution_count": 13,
      "outputs": []
    },
    {
      "cell_type": "markdown",
      "metadata": {
        "id": "idQPTBe6lB2Q"
      },
      "source": [
        "### 9 - Number of tweets / day"
      ]
    },
    {
      "cell_type": "code",
      "metadata": {
        "id": "mJII29cslFrL"
      },
      "source": [
        "\n",
        "\n",
        "def numberOfTweetsPerDay(data_frame) :\n",
        "  dftemp = pd.DataFrame({\"CreatedAt\":data_frame[\"CreatedAt\"].dt.date})\n",
        "  query=dftemp.groupby([\"UserID\",\"CreatedAt\"]).size()\n",
        "  query2=query.groupby([\"UserID\"]).mean().reset_index(name='0')\n",
        "  df = pd.DataFrame({\"UserID\":query2[\"UserID\"],\"NumberOfTweetsPerDay\":query2[\"0\"]})\n",
        "  df=df.set_index(\"UserID\")\n",
        "  return df\n"
      ],
      "execution_count": 14,
      "outputs": []
    },
    {
      "cell_type": "markdown",
      "metadata": {
        "id": "6P_PE-VU36L7"
      },
      "source": [
        "### 10 - |Tweets| / longevity"
      ]
    },
    {
      "cell_type": "code",
      "metadata": {
        "id": "K2ZMPOhs3-HV"
      },
      "source": [
        "def avgOfTweetsPerAcc(data_frame) :\n",
        "  df = pd.DataFrame({\"RatioTweets/Account\": nbrOfTweets(data_frame)[\"NumberOfTweets\"]/longevity(data_frame)[\"LongevityOfAccount\"] })\n",
        "  return df"
      ],
      "execution_count": 15,
      "outputs": []
    },
    {
      "cell_type": "markdown",
      "metadata": {
        "id": "gF76X4KO3-h7"
      },
      "source": [
        "### 11 - |Tweets with URL|  /  |Tweets|"
      ]
    },
    {
      "cell_type": "code",
      "metadata": {
        "id": "FxLzAKw54Ebf"
      },
      "source": [
        "def existURL(tweet) :\n",
        "  if(len(re.findall('https?://(?:[-\\w.]|(?:%[\\da-fA-F]{2}))+', str(tweet)))==0):\n",
        "    return 0;\n",
        "  else:\n",
        "    return 1;\n",
        "  \n",
        "def URLsPerTweets(data_frame) :\n",
        "  dftemp=pd.DataFrame({\"AvgTweetsWithURL\": data_frame[\"Tweet\"].apply(existURL)})\n",
        "  df = dftemp.groupby([\"UserID\"]).mean()\n",
        "  return df\n"
      ],
      "execution_count": 16,
      "outputs": []
    },
    {
      "cell_type": "markdown",
      "metadata": {
        "id": "r9wRArWC6jM9"
      },
      "source": [
        "### 12 - Average URLs / Tweet"
      ]
    },
    {
      "cell_type": "code",
      "metadata": {
        "id": "Y5YIuzKO6iFV"
      },
      "source": [
        "def URLcount(tweet):\n",
        "  return len(re.findall('https?://(?:[-\\w.]|(?:%[\\da-fA-F]{2}))+', str(tweet)))\n",
        "\n",
        "def averageURL(data_frame) :\n",
        "  dftemp=pd.DataFrame({\"RatioURL/Tweet\": data_frame[\"Tweet\"].apply(URLcount)})\n",
        "  df = dftemp.groupby([\"UserID\"]).mean()\n",
        "  return df"
      ],
      "execution_count": 17,
      "outputs": []
    },
    {
      "cell_type": "markdown",
      "metadata": {
        "id": "b5f-FJpe38sL"
      },
      "source": [
        "### 13 - Average mentions / Tweet"
      ]
    },
    {
      "cell_type": "code",
      "metadata": {
        "id": "OR9sWj6Q4ADJ"
      },
      "source": [
        "def countM(tweet):\n",
        "  return len(re.findall('\\s([@#][\\w_-]+)', str(tweet)))\n",
        "\n",
        "def mentionsPerTweets(data_frame):\n",
        "  dftemp=pd.DataFrame({\"AvgMentionsPerTweet\": data_frame[\"Tweet\"].apply(countM)})\n",
        "  df = dftemp.groupby([\"UserID\"]).mean()\n",
        "  return df"
      ],
      "execution_count": 18,
      "outputs": []
    },
    {
      "cell_type": "markdown",
      "metadata": {
        "id": "KQ8OT2dKBEBM"
      },
      "source": [
        "### 14 - Average time between 2 consecutives tweets"
      ]
    },
    {
      "cell_type": "code",
      "metadata": {
        "id": "wphcuK8nBRqy"
      },
      "source": [
        "def avgTimeBetween2Tweets(data_frame):\n",
        "  temp=pd.DataFrame({\"CreatedAt\":data_frame[\"CreatedAt\"]}).sort_values(by=['UserID','CreatedAt'])\n",
        "  dftemp=pd.DataFrame({\"PreviousTweet\":temp.groupby(['UserID']).apply(lambda x:x)['CreatedAt'],\n",
        "                       \"NextTweet\":temp.groupby(['UserID']).shift(-1)['CreatedAt']})\n",
        "  df=pd.DataFrame({\"AvgMinutesBetween2Tweets\": (dftemp[\"NextTweet\"]-dftemp[\"PreviousTweet\"]) / np.timedelta64(1, 'm')})\n",
        "  df=df.groupby([\"UserID\"]).mean()\n",
        "  return df"
      ],
      "execution_count": 19,
      "outputs": []
    },
    {
      "cell_type": "markdown",
      "metadata": {
        "id": "KqqLLHyOacgK"
      },
      "source": [
        "### 15 - Max time between 2 consecutives tweets"
      ]
    },
    {
      "cell_type": "code",
      "metadata": {
        "id": "Ej3k_e_QajGo"
      },
      "source": [
        "def maxTimeBetween2Tweets(data_frame):\n",
        "  temp=pd.DataFrame({\"CreatedAt\":data_frame[\"CreatedAt\"]}).sort_values(by=['UserID','CreatedAt'])\n",
        "  dftemp=pd.DataFrame({\"PreviousTweet\":temp.groupby(['UserID']).apply(lambda x:x)['CreatedAt'],\n",
        "                       \"NextTweet\":temp.groupby(['UserID']).shift(-1)['CreatedAt']})\n",
        "  df=pd.DataFrame({\"MaxTimeBetween2Tweets\": (dftemp[\"NextTweet\"]-dftemp[\"PreviousTweet\"]) / np.timedelta64(1, 'm')})\n",
        "  df=df.groupby([\"UserID\"]).max()\n",
        "  return df"
      ],
      "execution_count": 20,
      "outputs": []
    },
    {
      "cell_type": "markdown",
      "metadata": {
        "id": "K0cRHwWpOPbA"
      },
      "source": [
        "## **Prétraitement**"
      ]
    },
    {
      "cell_type": "markdown",
      "metadata": {
        "id": "CpYK-XerOamA"
      },
      "source": [
        "### Fusion des caractéristiques"
      ]
    },
    {
      "cell_type": "markdown",
      "metadata": {
        "id": "IOjxp9O-vFWX"
      },
      "source": [
        "\n",
        "\n",
        "**Concatenation des caractéristiques 1-8 et 10 car ils ont été extrait par le fichier géneral d'utilisateurs**\n",
        "\n"
      ]
    },
    {
      "cell_type": "code",
      "metadata": {
        "id": "QhzN1g6oOjQl"
      },
      "source": [
        "first_features_polluters=pd.concat([lengthName(dfContent_polluters),lengthDes(dfContent_polluters),\n",
        "                           longevity(dfContent_polluters),nbrFollowings(dfContent_polluters),nbrFollowers(dfContent_polluters),\n",
        "                        followingsSTD(dfContent_polluters_followings),quotientFF(dfContent_polluters),\n",
        "                        nbrOfTweets(dfContent_polluters),avgOfTweetsPerAcc(dfContent_polluters)],axis=1)\n",
        "\n",
        "first_features_legitimate=pd.concat([lengthName(dfLegitimate_users),lengthDes(dfLegitimate_users),\n",
        "                           longevity(dfLegitimate_users),nbrFollowings(dfLegitimate_users),nbrFollowers(dfLegitimate_users),\n",
        "                        followingsSTD(dfLegitimate_users_followings),quotientFF(dfLegitimate_users),\n",
        "                        nbrOfTweets(dfLegitimate_users),avgOfTweetsPerAcc(dfLegitimate_users)],axis=1)"
      ],
      "execution_count": 21,
      "outputs": []
    },
    {
      "cell_type": "markdown",
      "metadata": {
        "id": "Gz40rWPVwl6R"
      },
      "source": [
        "\n",
        "\n",
        "**Concatenation des caractéristiques 11-15 et 9 car ils ont été extrait par le fichier de tweets**\n",
        "\n"
      ]
    },
    {
      "cell_type": "code",
      "metadata": {
        "id": "IWfUI1FzwmMK"
      },
      "source": [
        "second_features_polluters=pd.concat([numberOfTweetsPerDay(dfContent_polluters_tweets),URLsPerTweets(dfContent_polluters_tweets),\n",
        "                                     averageURL(dfContent_polluters_tweets),mentionsPerTweets(dfContent_polluters_tweets),\n",
        "                                     avgTimeBetween2Tweets(dfContent_polluters_tweets),maxTimeBetween2Tweets(dfContent_polluters_tweets)],axis=1)\n",
        "\n",
        "second_features_legitimate=pd.concat([numberOfTweetsPerDay(dfLegitimate_users_tweets),URLsPerTweets(dfLegitimate_users_tweets),\n",
        "                                     averageURL(dfLegitimate_users_tweets),mentionsPerTweets(dfLegitimate_users_tweets),\n",
        "                                     avgTimeBetween2Tweets(dfLegitimate_users_tweets),maxTimeBetween2Tweets(dfLegitimate_users_tweets)],axis=1)"
      ],
      "execution_count": 22,
      "outputs": []
    },
    {
      "cell_type": "markdown",
      "metadata": {
        "id": "_KN44q4WzdPr"
      },
      "source": [
        "\n",
        "\n",
        "**Fusion des caractéristiques par rapport au \"UserID\" comme index**\n",
        "\n",
        "\n",
        "\n"
      ]
    },
    {
      "cell_type": "code",
      "metadata": {
        "id": "QJjULHySzwkz"
      },
      "source": [
        "data_set_polluters = first_features_polluters.join(second_features_polluters,how=\"inner\")\n",
        "\n",
        "data_set_legitimate = first_features_legitimate.join(second_features_legitimate,how=\"inner\")"
      ],
      "execution_count": 23,
      "outputs": []
    },
    {
      "cell_type": "markdown",
      "metadata": {
        "id": "oMYi30Hm1kYC"
      },
      "source": [
        "\n",
        "\n",
        "**Ajout de classe 1 pour \"polluters\" et 0 \"legitimate\"**\n",
        "\n"
      ]
    },
    {
      "cell_type": "code",
      "metadata": {
        "id": "TD0i41Jt1kfj"
      },
      "source": [
        "data_set_polluters.insert(0,\"Class\",1)\n",
        "data_set_legitimate.insert(0,\"Class\",0)"
      ],
      "execution_count": 24,
      "outputs": []
    },
    {
      "cell_type": "markdown",
      "metadata": {
        "id": "HbdV2X8x1tr8"
      },
      "source": [
        "\n",
        "**Fusion des 2 data sets**\n",
        "\n"
      ]
    },
    {
      "cell_type": "code",
      "metadata": {
        "id": "BP_YIDvr1tig"
      },
      "source": [
        "data_set=pd.concat([data_set_polluters,data_set_legitimate])"
      ],
      "execution_count": 25,
      "outputs": []
    },
    {
      "cell_type": "markdown",
      "metadata": {
        "id": "iV18Ugic3TdB"
      },
      "source": [
        "### Nettoyage de DataSet"
      ]
    },
    {
      "cell_type": "markdown",
      "metadata": {
        "id": "kYBcA5403oyk"
      },
      "source": [
        "\n",
        "\n",
        "**Vérification\tet\tsuppression\tdes\tattributs\tà\tvaleur\tunique.**\n",
        "\n"
      ]
    },
    {
      "cell_type": "code",
      "metadata": {
        "id": "TvyaONhY3bs2"
      },
      "source": [
        "def attributesOfUniqueValues(dataset) :\n",
        "  list=[]\n",
        "  for col in dataset.columns:\n",
        "    if (dataset[col]==dataset[col].iloc[0]).all == True:\n",
        "      list.append(col)\n",
        "  return data_set.drop(list)"
      ],
      "execution_count": 26,
      "outputs": []
    },
    {
      "cell_type": "markdown",
      "metadata": {
        "id": "dyP30gtUaDIz"
      },
      "source": [
        "\n",
        "\n",
        "> Ils n'existent pas\n",
        "\n",
        "\n"
      ]
    },
    {
      "cell_type": "markdown",
      "metadata": {
        "id": "qBVtoRW33vN9"
      },
      "source": [
        "\n",
        "\n",
        "**Suppression\tdes\tinstances\tde\tdonnées\ten\tdouble.**\n",
        "\n"
      ]
    },
    {
      "cell_type": "code",
      "metadata": {
        "id": "msASkg4k3urK"
      },
      "source": [
        "def duplicateRows(dataset):\n",
        "  return data_set.drop_duplicates()"
      ],
      "execution_count": 27,
      "outputs": []
    },
    {
      "cell_type": "markdown",
      "metadata": {
        "id": "j9Ho4V9YbdtP"
      },
      "source": [
        "\n",
        "\n",
        "> Ils n'existent pas\n",
        "\n"
      ]
    },
    {
      "cell_type": "markdown",
      "metadata": {
        "id": "V7UaB7gN3x_j"
      },
      "source": [
        "\n",
        "\n",
        "**Remplacement\tdes\tvaleurs\tmanquantes\t(remplacé par\t0).**\n",
        "\n"
      ]
    },
    {
      "cell_type": "code",
      "metadata": {
        "id": "Exn1g8Hf3yN7"
      },
      "source": [
        "def missingValues(dataset):\n",
        "  valuesReplaced = dataset.replace([np.inf,-np.inf],np.nan)\n",
        "  valuesReplaced.fillna(0,inplace=True)\n",
        "  return valuesReplaced"
      ],
      "execution_count": 28,
      "outputs": []
    },
    {
      "cell_type": "markdown",
      "metadata": {
        "id": "RDkRMF-ve5oG"
      },
      "source": [
        "Des valuers manquant appraissent dans:\n",
        "\n",
        "> L'attribut \"Ratio Followings/Followers\" a cause des utilisateurs qui n'ont pas des followers.\n",
        "\n",
        "\n",
        "> L'attribut \"AvgMinutesBetween2Tweets\" a cause de dernier tweet d'un utilisateur qui n'a pas une prochaine tweet\n",
        "\n",
        "\n",
        "> L'attribut \"MaxTimeBetween2Tweets\" a cause de dernier tweet d'un utilisateur qui n'a pas une prochaine tweet\n",
        "\n",
        "\n",
        "\n",
        "\n"
      ]
    },
    {
      "cell_type": "markdown",
      "metadata": {
        "id": "weoTqBRg3212"
      },
      "source": [
        "\n",
        "\n",
        "**Normalisation\tdes\tdonnées\t(approche\tz-score).**\n",
        "\n"
      ]
    },
    {
      "cell_type": "code",
      "metadata": {
        "id": "xnl51CtgjOgR"
      },
      "source": [
        "def zscores(dataset):\n",
        "  df=data_set.drop([\"Class\"],axis=1)\n",
        "  df=df.apply(zscore)\n",
        "  df[\"Class\"]=dataset[\"Class\"]\n",
        "  return df"
      ],
      "execution_count": 29,
      "outputs": []
    },
    {
      "cell_type": "markdown",
      "metadata": {
        "id": "ZMjOG3hMqRFU"
      },
      "source": [
        "### Résultat Finale"
      ]
    },
    {
      "cell_type": "markdown",
      "metadata": {
        "id": "DM7EmPSOqZ0y"
      },
      "source": [
        "**Application de Nettoyage**"
      ]
    },
    {
      "cell_type": "code",
      "metadata": {
        "id": "2gBiYBS2qYR-"
      },
      "source": [
        "data_set=attributesOfUniqueValues(data_set)\n",
        "data_set=duplicateRows(data_set)\n",
        "data_set=missingValues(data_set)\n",
        "data_set=zscores(data_set)"
      ],
      "execution_count": 30,
      "outputs": []
    },
    {
      "cell_type": "markdown",
      "metadata": {
        "id": "aCLDzE25qi3H"
      },
      "source": [
        "**Fichier CSV**"
      ]
    },
    {
      "cell_type": "code",
      "metadata": {
        "id": "vheVIbWoqjKs"
      },
      "source": [
        "export_csv = data_set.to_csv (r'data_set.csv', index = None, header=True)"
      ],
      "execution_count": 31,
      "outputs": []
    },
    {
      "cell_type": "markdown",
      "metadata": {
        "id": "TBpJGLk338_l"
      },
      "source": [
        "## \t**Analyse\tcomparative**"
      ]
    },
    {
      "cell_type": "markdown",
      "metadata": {
        "id": "xQjZuDnr4F4j"
      },
      "source": [
        "### Application des algorithmes"
      ]
    },
    {
      "cell_type": "markdown",
      "metadata": {
        "id": "IXBvR5WXy2On"
      },
      "source": [
        "\n",
        "\n",
        "**Préparation des données de test et d'entrainement**\n",
        "\n"
      ]
    },
    {
      "cell_type": "code",
      "metadata": {
        "id": "4zFcwwg1y5qu"
      },
      "source": [
        "X=data_set.drop(['Class'],axis=1)\n",
        "X=X.values\n",
        "Y=data_set[\"Class\"].values\n",
        "train, test, target, trueResult = train_test_split(X, Y, test_size=0.3, random_state=1)"
      ],
      "execution_count": 32,
      "outputs": []
    },
    {
      "cell_type": "markdown",
      "metadata": {
        "id": "J13NsU82yZv-"
      },
      "source": [
        "**Application des Algorithmes**"
      ]
    },
    {
      "cell_type": "code",
      "metadata": {
        "id": "XmThtrw8krNn"
      },
      "source": [
        "\n",
        "# Decision Tree\n",
        "decisionTree = DecisionTreeClassifier(random_state=0)\n",
        "decisionTree.fit(train, target)\n",
        "predictedAD = decisionTree.predict(test)\n",
        "probasAD = decisionTree.predict_proba(test)\n",
        "\n",
        "# Random Forest\n",
        "randomForest = RandomForestClassifier(n_estimators=100)\n",
        "randomForest.fit(train, target)\n",
        "predictedRF = randomForest.predict(test)\n",
        "probasRF = randomForest.predict_proba(test)\n",
        "\n",
        "# Naive Bayes\n",
        "gnb = GaussianNB()\n",
        "gnb.fit(train, target)\n",
        "predictedNB = gnb.predict(test)\n",
        "probasNB = gnb.predict_proba(test)\n"
      ],
      "execution_count": 33,
      "outputs": []
    },
    {
      "cell_type": "markdown",
      "metadata": {
        "id": "8HZeD4--Gz5G"
      },
      "source": [
        "### Performances"
      ]
    },
    {
      "cell_type": "markdown",
      "metadata": {
        "id": "Tq4QAhZfG5zN"
      },
      "source": [
        "\n",
        "\n",
        "> Arbre de décision\n",
        "\n"
      ]
    },
    {
      "cell_type": "code",
      "metadata": {
        "id": "PkVYojYwG-6M",
        "colab": {
          "base_uri": "https://localhost:8080/",
          "height": 935
        },
        "outputId": "1e53eb99-58e6-48be-fabc-2cd5ea809785"
      },
      "source": [
        "precisionAD = precision_score(trueResult, predictedAD)\n",
        "recallAD = recall_score(trueResult, predictedAD)\n",
        "fmeasureAD = f1_score(trueResult, predictedAD)\n",
        "fprAD, tprAD, thresholdsAD = roc_curve(trueResult, predictedAD)\n",
        "rocAD = metrics.auc(fprAD, tprAD)\n",
        "print(\"Precision: %0.4f\" % precisionAD)\n",
        "print(\"Recall: %0.4f\" % recallAD)\n",
        "print(\"F-mesure: %0.4f\" % fmeasureAD)\n",
        "print(\"Surface sous la courbe ROC: %0.4f\" % rocAD)\n",
        "skplt.metrics.plot_confusion_matrix(trueResult, predictedAD, normalize=True)\n",
        "skplt.metrics.plot_roc(trueResult, probasAD)\n",
        "skplt.metrics.plot_precision_recall(trueResult, probasAD)\n"
      ],
      "execution_count": 34,
      "outputs": [
        {
          "output_type": "stream",
          "name": "stdout",
          "text": [
            "Precision: 0.9202\n",
            "Recall: 0.9051\n",
            "F-mesure: 0.9126\n",
            "Surface sous la courbe ROC: 0.9101\n"
          ]
        },
        {
          "output_type": "execute_result",
          "data": {
            "text/plain": [
              "<matplotlib.axes._subplots.AxesSubplot at 0x7f5f2d73bd50>"
            ]
          },
          "metadata": {},
          "execution_count": 34
        },
        {
          "output_type": "display_data",
          "data": {
            "image/png": "[encoded data removed]",
            "text/plain": [
              "<Figure size 432x288 with 2 Axes>"
            ]
          },
          "metadata": {
            "needs_background": "light"
          }
        },
        {
          "output_type": "display_data",
          "data": {
            "image/png": "[encoded data removed]",
            "text/plain": [
              "<Figure size 432x288 with 1 Axes>"
            ]
          },
          "metadata": {
            "needs_background": "light"
          }
        },
        {
          "output_type": "display_data",
          "data": {
            "image/png": "[encoded data removed]",
            "text/plain": [
              "<Figure size 432x288 with 1 Axes>"
            ]
          },
          "metadata": {
            "needs_background": "light"
          }
        }
      ]
    },
    {
      "cell_type": "markdown",
      "metadata": {
        "id": "Kfj6s92KJ-X4"
      },
      "source": [
        "\n",
        "\n",
        "> Random Forest\n",
        "\n"
      ]
    },
    {
      "cell_type": "code",
      "metadata": {
        "id": "Lx4-2jh2KmMU",
        "colab": {
          "base_uri": "https://localhost:8080/",
          "height": 935
        },
        "outputId": "2d9299bc-7330-48d1-d920-d682bbfcbfd2"
      },
      "source": [
        "precisionRF = precision_score(trueResult, predictedRF)\n",
        "recallRF = recall_score(trueResult, predictedRF)\n",
        "fmeasureRF = f1_score(trueResult, predictedRF)\n",
        "fprRF, tprRF, thresholdsRF = roc_curve(trueResult, predictedRF)\n",
        "rocRF = metrics.auc(fprRF, tprRF)\n",
        "print(\"Precision: %0.4f\" % precisionRF)\n",
        "print(\"Recall: %0.4f\" % recallRF)\n",
        "print(\"F-mesure: %0.4f\" % fmeasureRF)\n",
        "print(\"Surface sous la courbe ROC: %0.4f\" % rocRF)\n",
        "skplt.metrics.plot_confusion_matrix(trueResult, predictedRF, normalize=True)\n",
        "skplt.metrics.plot_roc(trueResult, probasRF)\n",
        "skplt.metrics.plot_precision_recall(trueResult, probasRF)"
      ],
      "execution_count": 35,
      "outputs": [
        {
          "output_type": "stream",
          "name": "stdout",
          "text": [
            "Precision: 0.9442\n",
            "Recall: 0.9516\n",
            "F-mesure: 0.9479\n",
            "Surface sous la courbe ROC: 0.9454\n"
          ]
        },
        {
          "output_type": "execute_result",
          "data": {
            "text/plain": [
              "<matplotlib.axes._subplots.AxesSubplot at 0x7f5f23c1cdd0>"
            ]
          },
          "metadata": {},
          "execution_count": 35
        },
        {
          "output_type": "display_data",
          "data": {
            "image/png": "[encoded data removed]",
            "text/plain": [
              "<Figure size 432x288 with 2 Axes>"
            ]
          },
          "metadata": {
            "needs_background": "light"
          }
        },
        {
          "output_type": "display_data",
          "data": {
            "image/png": "[encoded data removed]",
            "text/plain": [
              "<Figure size 432x288 with 1 Axes>"
            ]
          },
          "metadata": {
            "needs_background": "light"
          }
        },
        {
          "output_type": "display_data",
          "data": {
            "image/png": "[encoded data removed]",
            "text/plain": [
              "<Figure size 432x288 with 1 Axes>"
            ]
          },
          "metadata": {
            "needs_background": "light"
          }
        }
      ]
    },
    {
      "cell_type": "markdown",
      "metadata": {
        "id": "AYmOpTAzK77i"
      },
      "source": [
        "\n",
        "\n",
        ">Classification bayésienne naïve\n",
        "\n"
      ]
    },
    {
      "cell_type": "code",
      "metadata": {
        "id": "wrsXS3NMK8HJ",
        "colab": {
          "base_uri": "https://localhost:8080/",
          "height": 935
        },
        "outputId": "f2721ca4-f9d1-4139-c31b-088a6d01ac1e"
      },
      "source": [
        "precisionNB = precision_score(trueResult, predictedNB)\n",
        "recallNB = recall_score(trueResult, predictedNB)\n",
        "fmeasureNB = f1_score(trueResult, predictedNB)\n",
        "fprNB, tprNB, thresholdsNB = roc_curve(trueResult, predictedNB)\n",
        "rocNB = metrics.roc_auc_score(trueResult, predictedNB)\n",
        "print(\"Precision: %0.4f\" % precisionNB)\n",
        "print(\"Recall: %0.4f\" % recallNB)\n",
        "print(\"F-mesure: %0.4f\" % fmeasureNB)\n",
        "print(\"Surface sous la courbe ROC: %0.4f\" % rocNB)\n",
        "skplt.metrics.plot_confusion_matrix(trueResult, predictedNB, normalize=True)\n",
        "skplt.metrics.plot_roc(trueResult, probasNB)\n",
        "skplt.metrics.plot_precision_recall(trueResult, probasNB)"
      ],
      "execution_count": 36,
      "outputs": [
        {
          "output_type": "stream",
          "name": "stdout",
          "text": [
            "Precision: 0.9478\n",
            "Recall: 0.2744\n",
            "F-mesure: 0.4256\n",
            "Surface sous la courbe ROC: 0.6290\n"
          ]
        },
        {
          "output_type": "execute_result",
          "data": {
            "text/plain": [
              "<matplotlib.axes._subplots.AxesSubplot at 0x7f5f0da45c90>"
            ]
          },
          "metadata": {},
          "execution_count": 36
        },
        {
          "output_type": "display_data",
          "data": {
            "image/png": "[encoded data removed]",
            "text/plain": [
              "<Figure size 432x288 with 2 Axes>"
            ]
          },
          "metadata": {
            "needs_background": "light"
          }
        },
        {
          "output_type": "display_data",
          "data": {
            "image/png": "[encoded data removed]",
            "text/plain": [
              "<Figure size 432x288 with 1 Axes>"
            ]
          },
          "metadata": {
            "needs_background": "light"
          }
        },
        {
          "output_type": "display_data",
          "data": {
            "image/png": "[encoded data removed]",
            "text/plain": [
              "<Figure size 432x288 with 1 Axes>"
            ]
          },
          "metadata": {
            "needs_background": "light"
          }
        }
      ]
    },
    {
      "cell_type": "code",
      "metadata": {
        "id": "WKZbrQ0XEKXZ",
        "colab": {
          "base_uri": "https://localhost:8080/"
        },
        "outputId": "d93bd708-9b03-444e-9dfa-d6962a03b47f"
      },
      "source": [
        "print(trueResult.shape)"
      ],
      "execution_count": 37,
      "outputs": [
        {
          "output_type": "stream",
          "name": "stdout",
          "text": [
            "(11969,)\n"
          ]
        }
      ]
    },
    {
      "cell_type": "markdown",
      "metadata": {
        "id": "5ss5_7DGkruq"
      },
      "source": [
        "### Comparaison des performances\n",
        "\n"
      ]
    },
    {
      "cell_type": "markdown",
      "metadata": {
        "id": "TXh0mM37MpMO"
      },
      "source": [
        "Dans le rapport :D"
      ]
    }
  ]
}